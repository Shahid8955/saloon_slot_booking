{
 "cells": [
  {
   "cell_type": "code",
   "execution_count": null,
   "id": "363d2cd2-5e00-4653-a992-459982894051",
   "metadata": {},
   "outputs": [
    {
     "name": "stdout",
     "output_type": "stream",
     "text": [
      "Welcome, Alice! You can book an appointment.\n",
      "Total price: 35\n",
      "Available Salon Services:\n",
      "- Haircut\n",
      "- Manicure\n",
      "- Facial\n"
     ]
    }
   ],
   "source": [
    "#1: Variable Declaration & Data Types\n",
    "customer_name = \"Alice\"   # String\n",
    "customer_age = 25         # Integer\n",
    "is_vip = True            # Boolean\n",
    "services = [\"Haircut\", \"Manicure\", \"Facial\"]  # List\n",
    "prices = {\"Haircut\": 20, \"Manicure\": 15, \"Facial\": 30}  # Dictionary\n",
    "\n",
    "#2: Conditional Statements\n",
    "if customer_age < 18:\n",
    "    print(\"You must be 18+ to book a salon service.\")\n",
    "else:\n",
    "    print(f\"Welcome, {customer_name}! You can book an appointment.\")\n",
    "\n",
    "#3: Operators\n",
    "total_price = prices[\"Haircut\"] + prices[\"Manicure\"]  # Arithmetic (+)\n",
    "print(\"Total price:\", total_price)\n",
    "\n",
    "#4: Loop: Display Available Services\n",
    "print(\"Available Salon Services:\")\n",
    "for service in services:  # Loop through the list\n",
    "    print(\"-\", service)\n",
    "\n",
    "#5: Function: Booking a Service\n",
    "def book_service(name, service):\n",
    "    if service in prices:\n",
    "        print(f\"{name} booked {service} for ${prices[service]}.\")\n",
    "    else:\n",
    "        print(\"Invalid service selected.\")\n",
    "\n",
    "#6: User Input & Function Call\n",
    "selected_service = input(\"Enter a service to book: \")  # Taking user input\n",
    "book_service(customer_name, selected_service)\n",
    "\n",
    "#7: While Loop: Check Stylist Availability\n",
    "stylist_available = False\n",
    "attempts = 0\n",
    "\n",
    "while not stylist_available and attempts < 3:\n",
    "    response = input(\"Is a stylist available? (yes/no): \").lower()\n",
    "    if response == \"yes\":\n",
    "        stylist_available = True\n",
    "        print(\"Stylist assigned successfully!\")\n",
    "    else:\n",
    "        attempts += 1\n",
    "        print(\"Checking again...\")\n",
    "\n",
    "if not stylist_available:\n",
    "    print(\"No stylists available. Try again later.\")\n"
   ]
  },
  {
   "cell_type": "code",
   "execution_count": null,
   "id": "7f6ee627-d743-42b3-9488-034156df1d7d",
   "metadata": {},
   "outputs": [],
   "source": []
  }
 ],
 "metadata": {
  "kernelspec": {
   "display_name": "Python 3 (ipykernel)",
   "language": "python",
   "name": "python3"
  },
  "language_info": {
   "codemirror_mode": {
    "name": "ipython",
    "version": 3
   },
   "file_extension": ".py",
   "mimetype": "text/x-python",
   "name": "python",
   "nbconvert_exporter": "python",
   "pygments_lexer": "ipython3",
   "version": "3.12.7"
  }
 },
 "nbformat": 4,
 "nbformat_minor": 5
}
